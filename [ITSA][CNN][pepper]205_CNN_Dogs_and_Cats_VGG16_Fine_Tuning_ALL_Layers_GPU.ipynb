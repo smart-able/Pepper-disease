{
  "nbformat": 4,
  "nbformat_minor": 0,
  "metadata": {
    "colab": {
      "provenance": [],
      "include_colab_link": true
    },
    "kernelspec": {
      "name": "python3",
      "display_name": "Python 3"
    },
    "accelerator": "GPU"
  },
  "cells": [
    {
      "cell_type": "markdown",
      "metadata": {
        "id": "view-in-github",
        "colab_type": "text"
      },
      "source": [
        "<a href=\"https://colab.research.google.com/github/smart-able/Pepper-disease/blob/main/%5BITSA%5D%5BCNN%5D%5Bpepper%5D205_CNN_Dogs_and_Cats_VGG16_Fine_Tuning_ALL_Layers_GPU.ipynb\" target=\"_parent\"><img src=\"https://colab.research.google.com/assets/colab-badge.svg\" alt=\"Open In Colab\"/></a>"
      ]
    },
    {
      "cell_type": "markdown",
      "metadata": {
        "id": "q2Pr7oBdYLdf"
      },
      "source": [
        "# VGG-16 재훈련\n",
        "## VGG-16 Model\n",
        "* University of Oxford - Visual Geometry Group\n",
        "* 2014 ILSVRC 2nd Model\n",
        "* ImageNet Large Scale Visual Recognition Challenge (ILSVRC)\n"
      ]
    },
    {
      "cell_type": "code",
      "metadata": {
        "id": "RbPgODpVzdHI"
      },
      "source": [
        "import warnings\n",
        "warnings.filterwarnings('ignore')"
      ],
      "execution_count": 1,
      "outputs": []
    },
    {
      "cell_type": "markdown",
      "source": [
        "* Import TensorFlow"
      ],
      "metadata": {
        "id": "yI8cuQkfxyfb"
      }
    },
    {
      "cell_type": "code",
      "source": [
        "import tensorflow as tf\n",
        "\n",
        "tf.__version__"
      ],
      "metadata": {
        "id": "b0whlIaSx2Yq",
        "colab": {
          "base_uri": "https://localhost:8080/",
          "height": 35
        },
        "outputId": "3c3384ae-2541-4b65-cb2a-c9d6b7d513e5"
      },
      "execution_count": 2,
      "outputs": [
        {
          "output_type": "execute_result",
          "data": {
            "text/plain": [
              "'2.15.0'"
            ],
            "application/vnd.google.colaboratory.intrinsic+json": {
              "type": "string"
            }
          },
          "metadata": {},
          "execution_count": 2
        }
      ]
    },
    {
      "cell_type": "markdown",
      "metadata": {
        "id": "6d1FeKK1CgqG"
      },
      "source": [
        "# I. wget From Github\n",
        "* 'dogs_and_cats_small.zip' 파일 다운로드"
      ]
    },
    {
      "cell_type": "code",
      "source": [
        "!wget https://raw.githubusercontent.com/rusita-ai/pyData/master/dogs_and_cats_small.zip"
      ],
      "metadata": {
        "colab": {
          "base_uri": "https://localhost:8080/"
        },
        "id": "f32hYtuOh4F4",
        "outputId": "1638129d-6ca6-4359-9461-f304015369d1"
      },
      "execution_count": null,
      "outputs": [
        {
          "output_type": "stream",
          "name": "stdout",
          "text": [
            "--2023-03-25 01:50:41--  https://raw.githubusercontent.com/rusita-ai/pyData/master/dogs_and_cats_small.zip\n",
            "Resolving raw.githubusercontent.com (raw.githubusercontent.com)... 185.199.109.133, 185.199.110.133, 185.199.111.133, ...\n",
            "Connecting to raw.githubusercontent.com (raw.githubusercontent.com)|185.199.109.133|:443... connected.\n",
            "HTTP request sent, awaiting response... 200 OK\n",
            "Length: 90618980 (86M) [application/zip]\n",
            "Saving to: ‘dogs_and_cats_small.zip’\n",
            "\n",
            "dogs_and_cats_small 100%[===================>]  86.42M   209MB/s    in 0.4s    \n",
            "\n",
            "2023-03-25 01:50:42 (209 MB/s) - ‘dogs_and_cats_small.zip’ saved [90618980/90618980]\n",
            "\n"
          ]
        }
      ]
    },
    {
      "cell_type": "markdown",
      "metadata": {
        "id": "O0njEDt2CgqJ"
      },
      "source": [
        "* 다운로드 결과 확인"
      ]
    },
    {
      "cell_type": "code",
      "metadata": {
        "colab": {
          "base_uri": "https://localhost:8080/"
        },
        "outputId": "7b557fde-8612-4180-ba8d-06ece86dccf1",
        "id": "A9XdvsnVCgqK"
      },
      "source": [
        "!ls -l"
      ],
      "execution_count": null,
      "outputs": [
        {
          "output_type": "stream",
          "name": "stdout",
          "text": [
            "total 88500\n",
            "-rw-r--r-- 1 root root 90618980 Mar 25 01:50 dogs_and_cats_small.zip\n",
            "drwxr-xr-x 1 root root     4096 Mar 23 18:57 sample_data\n"
          ]
        }
      ]
    },
    {
      "cell_type": "markdown",
      "metadata": {
        "id": "b6fdvGr3wPmT"
      },
      "source": [
        "# II. Data Preprocessing"
      ]
    },
    {
      "cell_type": "markdown",
      "metadata": {
        "id": "D9zdBsGKnLUo"
      },
      "source": [
        "> ## 1) Unzip 'dogs_and_cats_small.zip'"
      ]
    },
    {
      "cell_type": "code",
      "metadata": {
        "id": "WkuHaDXcnUtY"
      },
      "source": [
        "!unzip -q /content/dogs_and_cats_small.zip"
      ],
      "execution_count": null,
      "outputs": []
    },
    {
      "cell_type": "markdown",
      "source": [
        "* 학습 데이터 확인"
      ],
      "metadata": {
        "id": "nYRGJ9bpp4pF"
      }
    },
    {
      "cell_type": "code",
      "metadata": {
        "id": "Wt95WJ0SXOPP",
        "colab": {
          "base_uri": "https://localhost:8080/"
        },
        "outputId": "11f4fd25-c4c1-4cf3-9f00-14b67b7c0deb"
      },
      "source": [
        "!ls -l"
      ],
      "execution_count": null,
      "outputs": [
        {
          "output_type": "stream",
          "name": "stdout",
          "text": [
            "total 88512\n",
            "-rw-r--r-- 1 root root 90618980 Mar 25 01:50 dogs_and_cats_small.zip\n",
            "drwxr-xr-x 1 root root     4096 Mar 23 18:57 sample_data\n",
            "drwxr-xr-x 4 root root     4096 Mar 25 01:50 test\n",
            "drwxr-xr-x 4 root root     4096 Mar 25 01:50 train\n",
            "drwxr-xr-x 4 root root     4096 Mar 25 01:50 validation\n"
          ]
        }
      ]
    },
    {
      "cell_type": "markdown",
      "metadata": {
        "id": "1DyFdyVxFyHK"
      },
      "source": [
        "> ## 2) Image_File Directory Setting"
      ]
    },
    {
      "cell_type": "markdown",
      "metadata": {
        "id": "fwUMpMCYGB7Z"
      },
      "source": [
        "* train_dir\n",
        "* valid_dir\n",
        "* test_dir"
      ]
    },
    {
      "cell_type": "code",
      "metadata": {
        "id": "DxstjE8b_6Te"
      },
      "source": [
        "train_dir = '/content/train'\n",
        "valid_dir = '/content/validation'\n",
        "test_dir = '/content/test'"
      ],
      "execution_count": null,
      "outputs": []
    },
    {
      "cell_type": "markdown",
      "metadata": {
        "id": "0NXAn6tEYuVP"
      },
      "source": [
        "# III. Data Preprocessing"
      ]
    },
    {
      "cell_type": "markdown",
      "metadata": {
        "id": "k-mxzCBmZBVW"
      },
      "source": [
        "> ## 1) ImageDataGenerator( ) & flow_from_directory( )"
      ]
    },
    {
      "cell_type": "markdown",
      "metadata": {
        "id": "67hcrgtRubHV"
      },
      "source": [
        "* Normalization\n",
        " * ImageDataGenerator( )\n",
        "* Resizing & Generator\n",
        " * flow_from_directory( )"
      ]
    },
    {
      "cell_type": "code",
      "metadata": {
        "id": "fv4TEj_oZDGm",
        "colab": {
          "base_uri": "https://localhost:8080/"
        },
        "outputId": "c4f1efd0-a543-4a32-8d70-bb43c4d2c663"
      },
      "source": [
        "from tensorflow.keras.preprocessing.image import ImageDataGenerator\n",
        "\n",
        "# With Augmentation\n",
        "train_datagen = ImageDataGenerator(rescale = 1./255,\n",
        "                                   rotation_range = 40,\n",
        "                                   width_shift_range = 0.2,\n",
        "                                   height_shift_range = 0.2,\n",
        "                                   shear_range = 0.2,\n",
        "                                   zoom_range = 0.2,\n",
        "                                   horizontal_flip = True,\n",
        "                                   vertical_flip = True,\n",
        "                                   fill_mode = 'nearest')\n",
        "\n",
        "# Without Augmentation\n",
        "valid_datagen = ImageDataGenerator(rescale = 1./255)\n",
        "\n",
        "train_generator = train_datagen.flow_from_directory(\n",
        "                  train_dir,\n",
        "                  target_size = (150, 150),\n",
        "                  batch_size = 20,\n",
        "                  class_mode = 'binary')\n",
        "\n",
        "valid_generator = valid_datagen.flow_from_directory(\n",
        "                  valid_dir,\n",
        "                  target_size = (150, 150),\n",
        "                  batch_size = 20,\n",
        "                  class_mode = 'binary')"
      ],
      "execution_count": null,
      "outputs": [
        {
          "output_type": "stream",
          "name": "stdout",
          "text": [
            "Found 2000 images belonging to 2 classes.\n",
            "Found 1000 images belonging to 2 classes.\n"
          ]
        }
      ]
    },
    {
      "cell_type": "markdown",
      "metadata": {
        "id": "wBAWLCWdGNde"
      },
      "source": [
        "# IV. Import VGG-16 Model"
      ]
    },
    {
      "cell_type": "markdown",
      "metadata": {
        "id": "tpdqyBb2Gsdj"
      },
      "source": [
        "> ## 1) conv_base"
      ]
    },
    {
      "cell_type": "code",
      "metadata": {
        "id": "Zgv7VdbFGTGK",
        "colab": {
          "base_uri": "https://localhost:8080/"
        },
        "outputId": "e8e932a7-c21c-4304-f704-d2f123334579"
      },
      "source": [
        "from tensorflow.keras.applications import VGG16\n",
        "\n",
        "conv_base = VGG16(weights = 'imagenet',\n",
        "                  include_top = False,\n",
        "                  input_shape = (150, 150, 3))"
      ],
      "execution_count": null,
      "outputs": [
        {
          "output_type": "stream",
          "name": "stdout",
          "text": [
            "Downloading data from https://storage.googleapis.com/tensorflow/keras-applications/vgg16/vgg16_weights_tf_dim_ordering_tf_kernels_notop.h5\n",
            "58889256/58889256 [==============================] - 1s 0us/step\n"
          ]
        }
      ]
    },
    {
      "cell_type": "markdown",
      "metadata": {
        "id": "NTwZiSjiop3v"
      },
      "source": [
        "# V. Keras CNN Modeling with VGG-16"
      ]
    },
    {
      "cell_type": "markdown",
      "metadata": {
        "id": "j5CT0TurJCkc"
      },
      "source": [
        "> ## 1) Model Define"
      ]
    },
    {
      "cell_type": "markdown",
      "metadata": {
        "id": "ydDCl0jTJD58"
      },
      "source": [
        "* 'conv_base' & 'Classification' Network\n",
        "* Dropout Layer"
      ]
    },
    {
      "cell_type": "code",
      "metadata": {
        "id": "II0DskRdAcHS"
      },
      "source": [
        "from tensorflow.keras import models, layers\n",
        "\n",
        "model = models.Sequential()\n",
        "model.add(conv_base)\n",
        "\n",
        "# 바로 뒤에 DNN 붙여버림 --> 모든 것이 Trainable params가 됨\n",
        "\n",
        "model.add(layers.Flatten())\n",
        "model.add(layers.Dense(256, activation = 'relu'))\n",
        "model.add(layers.Dropout(0.5))\n",
        "model.add(layers.Dense(1, activation = 'sigmoid'))"
      ],
      "execution_count": null,
      "outputs": []
    },
    {
      "cell_type": "code",
      "metadata": {
        "id": "wbtjOA4XMTUd",
        "colab": {
          "base_uri": "https://localhost:8080/"
        },
        "outputId": "4d2dba8d-3cd5-4065-c5bb-079031468d03"
      },
      "source": [
        "model.summary()"
      ],
      "execution_count": null,
      "outputs": [
        {
          "output_type": "stream",
          "name": "stdout",
          "text": [
            "Model: \"sequential\"\n",
            "_________________________________________________________________\n",
            " Layer (type)                Output Shape              Param #   \n",
            "=================================================================\n",
            " vgg16 (Functional)          (None, 4, 4, 512)         14714688  \n",
            "                                                                 \n",
            " flatten (Flatten)           (None, 8192)              0         \n",
            "                                                                 \n",
            " dense (Dense)               (None, 256)               2097408   \n",
            "                                                                 \n",
            " dropout (Dropout)           (None, 256)               0         \n",
            "                                                                 \n",
            " dense_1 (Dense)             (None, 1)                 257       \n",
            "                                                                 \n",
            "=================================================================\n",
            "Total params: 16,812,353\n",
            "Trainable params: 16,812,353\n",
            "Non-trainable params: 0\n",
            "_________________________________________________________________\n"
          ]
        }
      ]
    },
    {
      "cell_type": "markdown",
      "metadata": {
        "id": "tpjBDBeYoyuj"
      },
      "source": [
        "> ## 2) Model Compile"
      ]
    },
    {
      "cell_type": "markdown",
      "metadata": {
        "id": "f3sxkQa0JoUr"
      },
      "source": [
        "* 모델 학습방법 설정\n",
        " * 이미 학습된 Weight 값을 Tuning\n",
        " * <font color = 'red'>매우 작은 Learnig Rate 지정</font>\n",
        " * optimizers.Adam(learning_rate = 0.000005)"
      ]
    },
    {
      "cell_type": "code",
      "metadata": {
        "id": "AyK_t1qwAi6M"
      },
      "source": [
        "from tensorflow.keras import optimizers\n",
        "# lr 매우 작게\n",
        "model.compile(loss = 'binary_crossentropy',\n",
        "              optimizer = optimizers.Adam(learning_rate = 0.000005),\n",
        "              metrics = ['accuracy'])"
      ],
      "execution_count": null,
      "outputs": []
    },
    {
      "cell_type": "markdown",
      "metadata": {
        "id": "umiq4B-Xo3OB"
      },
      "source": [
        "> ## 3) Model Fit"
      ]
    },
    {
      "cell_type": "markdown",
      "metadata": {
        "id": "1KuXREziKMD1"
      },
      "source": [
        "* 약 12분"
      ]
    },
    {
      "cell_type": "code",
      "metadata": {
        "id": "zxwqwAqRAqRP",
        "colab": {
          "base_uri": "https://localhost:8080/"
        },
        "outputId": "170ede77-9ada-456f-a820-601b318dbe30"
      },
      "source": [
        "%%time\n",
        "# 전이학습 fine tuning은 학습을 많이 할 필요는 없음\n",
        "Hist_dandc = model.fit(train_generator,\n",
        "                       steps_per_epoch = 100,\n",
        "                       epochs = 25,\n",
        "                       validation_data = valid_generator,\n",
        "                       validation_steps = 50)"
      ],
      "execution_count": null,
      "outputs": [
        {
          "output_type": "stream",
          "name": "stdout",
          "text": [
            "Epoch 1/25\n",
            "100/100 [==============================] - 45s 248ms/step - loss: 0.6950 - accuracy: 0.5730 - val_loss: 0.5433 - val_accuracy: 0.7270\n",
            "Epoch 2/25\n",
            "100/100 [==============================] - 25s 246ms/step - loss: 0.5801 - accuracy: 0.6970 - val_loss: 0.3971 - val_accuracy: 0.8410\n",
            "Epoch 3/25\n",
            "100/100 [==============================] - 25s 246ms/step - loss: 0.4848 - accuracy: 0.7725 - val_loss: 0.3529 - val_accuracy: 0.8460\n",
            "Epoch 4/25\n",
            "100/100 [==============================] - 25s 252ms/step - loss: 0.4099 - accuracy: 0.8160 - val_loss: 0.2512 - val_accuracy: 0.8960\n",
            "Epoch 5/25\n",
            "100/100 [==============================] - 25s 247ms/step - loss: 0.3636 - accuracy: 0.8415 - val_loss: 0.2465 - val_accuracy: 0.9130\n",
            "Epoch 6/25\n",
            "100/100 [==============================] - 25s 252ms/step - loss: 0.3315 - accuracy: 0.8565 - val_loss: 0.2231 - val_accuracy: 0.9150\n",
            "Epoch 7/25\n",
            "100/100 [==============================] - 25s 245ms/step - loss: 0.3183 - accuracy: 0.8620 - val_loss: 0.1891 - val_accuracy: 0.9270\n",
            "Epoch 8/25\n",
            "100/100 [==============================] - 25s 245ms/step - loss: 0.2754 - accuracy: 0.8790 - val_loss: 0.2227 - val_accuracy: 0.9170\n",
            "Epoch 9/25\n",
            "100/100 [==============================] - 24s 244ms/step - loss: 0.2756 - accuracy: 0.8795 - val_loss: 0.1852 - val_accuracy: 0.9200\n",
            "Epoch 10/25\n",
            "100/100 [==============================] - 24s 243ms/step - loss: 0.2388 - accuracy: 0.8985 - val_loss: 0.2578 - val_accuracy: 0.9020\n",
            "Epoch 11/25\n",
            "100/100 [==============================] - 24s 244ms/step - loss: 0.2356 - accuracy: 0.9010 - val_loss: 0.1751 - val_accuracy: 0.9260\n",
            "Epoch 12/25\n",
            "100/100 [==============================] - 25s 252ms/step - loss: 0.2123 - accuracy: 0.9140 - val_loss: 0.1912 - val_accuracy: 0.9200\n",
            "Epoch 13/25\n",
            "100/100 [==============================] - 25s 246ms/step - loss: 0.1960 - accuracy: 0.9110 - val_loss: 0.2120 - val_accuracy: 0.9180\n",
            "Epoch 14/25\n",
            "100/100 [==============================] - 25s 245ms/step - loss: 0.2015 - accuracy: 0.9160 - val_loss: 0.1796 - val_accuracy: 0.9290\n",
            "Epoch 15/25\n",
            "100/100 [==============================] - 24s 244ms/step - loss: 0.2183 - accuracy: 0.9155 - val_loss: 0.1842 - val_accuracy: 0.9340\n",
            "Epoch 16/25\n",
            "100/100 [==============================] - 24s 245ms/step - loss: 0.1837 - accuracy: 0.9230 - val_loss: 0.1344 - val_accuracy: 0.9520\n",
            "Epoch 17/25\n",
            "100/100 [==============================] - 26s 255ms/step - loss: 0.1736 - accuracy: 0.9255 - val_loss: 0.1656 - val_accuracy: 0.9380\n",
            "Epoch 18/25\n",
            "100/100 [==============================] - 24s 243ms/step - loss: 0.1569 - accuracy: 0.9315 - val_loss: 0.2466 - val_accuracy: 0.9190\n",
            "Epoch 19/25\n",
            "100/100 [==============================] - 25s 252ms/step - loss: 0.1536 - accuracy: 0.9355 - val_loss: 0.3233 - val_accuracy: 0.9070\n",
            "Epoch 20/25\n",
            "100/100 [==============================] - 24s 242ms/step - loss: 0.1630 - accuracy: 0.9365 - val_loss: 0.1687 - val_accuracy: 0.9400\n",
            "Epoch 21/25\n",
            "100/100 [==============================] - 25s 252ms/step - loss: 0.1434 - accuracy: 0.9445 - val_loss: 0.1641 - val_accuracy: 0.9430\n",
            "Epoch 22/25\n",
            "100/100 [==============================] - 24s 244ms/step - loss: 0.1482 - accuracy: 0.9375 - val_loss: 0.1456 - val_accuracy: 0.9470\n",
            "Epoch 23/25\n",
            "100/100 [==============================] - 24s 243ms/step - loss: 0.1243 - accuracy: 0.9480 - val_loss: 0.1489 - val_accuracy: 0.9460\n",
            "Epoch 24/25\n",
            "100/100 [==============================] - 26s 255ms/step - loss: 0.1373 - accuracy: 0.9465 - val_loss: 0.1432 - val_accuracy: 0.9480\n",
            "Epoch 25/25\n",
            "100/100 [==============================] - 26s 264ms/step - loss: 0.1523 - accuracy: 0.9430 - val_loss: 0.1336 - val_accuracy: 0.9530\n",
            "CPU times: user 14min 18s, sys: 14.2 s, total: 14min 32s\n",
            "Wall time: 10min 56s\n"
          ]
        }
      ]
    },
    {
      "cell_type": "markdown",
      "metadata": {
        "id": "FnnIyFtNKhbD"
      },
      "source": [
        "> ## 4) 학습 결과 시각화"
      ]
    },
    {
      "cell_type": "code",
      "metadata": {
        "id": "BRIqZjTOWaN2",
        "colab": {
          "base_uri": "https://localhost:8080/",
          "height": 350
        },
        "outputId": "50bddf30-934f-4dfb-d10d-54d192774dca"
      },
      "source": [
        "import matplotlib.pyplot as plt\n",
        "\n",
        "epochs = range(1, len(Hist_dandc.history['loss']) + 1)\n",
        "\n",
        "plt.figure(figsize = (15, 5))\n",
        "\n",
        "plt.subplot(1, 2, 1)\n",
        "plt.plot(epochs, Hist_dandc.history['loss'], 'b-')\n",
        "plt.plot(epochs, Hist_dandc.history['val_loss'], 'r--')\n",
        "plt.title('Training & Validation Loss')\n",
        "plt.xlabel('Epochs')\n",
        "plt.ylabel('Loss')\n",
        "plt.legend(['Training Loss', 'Validation Loss'])\n",
        "plt.grid()\n",
        "\n",
        "plt.subplot(1, 2, 2)\n",
        "plt.plot(epochs, Hist_dandc.history['accuracy'], 'b-')\n",
        "plt.plot(epochs, Hist_dandc.history['val_accuracy'], 'r--')\n",
        "plt.title('Training & Validation Accuracy')\n",
        "plt.xlabel('Epochs')\n",
        "plt.ylabel('Accuracy')\n",
        "plt.legend(['Training Accuracy', 'Validation Accuracy'])\n",
        "plt.grid()\n",
        "\n",
        "plt.show()\n",
        "# 전체 레이어를 튜닝 하는 것이 일부 레이어만 튜닝하는 것보다 성능이 좋음"
      ],
      "execution_count": null,
      "outputs": [
        {
          "output_type": "display_data",
          "data": {
            "text/plain": [
              "<Figure size 1080x360 with 2 Axes>"
            ],
            "image/png": "[encoded data removed]"
          },
          "metadata": {
            "needs_background": "light"
          }
        }
      ]
    },
    {
      "cell_type": "markdown",
      "metadata": {
        "id": "_uJSOLBko7lh"
      },
      "source": [
        "> ## 5) Model Evaluate"
      ]
    },
    {
      "cell_type": "markdown",
      "metadata": {
        "id": "hBnpWElEZUXG"
      },
      "source": [
        "* test_generator"
      ]
    },
    {
      "cell_type": "code",
      "metadata": {
        "id": "_IxBkugQZXk3",
        "colab": {
          "base_uri": "https://localhost:8080/"
        },
        "outputId": "92cb2519-0362-42ea-a111-2bdaa2984b2b"
      },
      "source": [
        "test_datagen = ImageDataGenerator(rescale = 1./255)\n",
        "\n",
        "test_generator = test_datagen.flow_from_directory(\n",
        "                 test_dir,\n",
        "                 target_size = (150, 150),\n",
        "                 batch_size = 20,\n",
        "                 class_mode = 'binary')"
      ],
      "execution_count": null,
      "outputs": [
        {
          "output_type": "stream",
          "name": "stdout",
          "text": [
            "Found 1000 images belonging to 2 classes.\n"
          ]
        }
      ]
    },
    {
      "cell_type": "markdown",
      "metadata": {
        "id": "i-TqAB2ALGzZ"
      },
      "source": [
        "* Loss & Accuracy"
      ]
    },
    {
      "cell_type": "code",
      "metadata": {
        "id": "OF30PuZsAxQJ",
        "colab": {
          "base_uri": "https://localhost:8080/"
        },
        "outputId": "ad47531b-2842-4ed4-f7c5-96a9cbe38ba5"
      },
      "source": [
        "loss, accuracy = model.evaluate(test_generator,\n",
        "                                steps = 50,\n",
        "                                verbose = 0)\n",
        "\n",
        "print('Loss = {:.5f}'.format(loss))\n",
        "print('Accuracy = {:.5f}'.format(accuracy))"
      ],
      "execution_count": null,
      "outputs": [
        {
          "output_type": "stream",
          "name": "stdout",
          "text": [
            "Loss = 0.15501\n",
            "Accuracy = 0.95700\n"
          ]
        }
      ]
    },
    {
      "cell_type": "markdown",
      "metadata": {
        "id": "sN48I9GrLxOX"
      },
      "source": [
        "#\n",
        "#\n",
        "#\n",
        "# End Of Document\n",
        "#\n",
        "#\n",
        "#"
      ]
    }
  ]
}